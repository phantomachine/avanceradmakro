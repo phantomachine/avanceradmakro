{
 "cells": [
  {
   "cell_type": "markdown",
   "metadata": {
    "toc": true
   },
   "source": [
    "<h1>Table of Contents<span class=\"tocSkip\"></span></h1>\n",
    "<div class=\"toc\"><ul class=\"toc-item\"><li><span><a href=\"#OLG-Recursive-Equilibrium-Mapping\" data-toc-modified-id=\"OLG-Recursive-Equilibrium-Mapping-1\"><span class=\"toc-item-num\">1&nbsp;&nbsp;</span>OLG Recursive Equilibrium Mapping</a></span><ul class=\"toc-item\"><li><span><a href=\"#Homework\" data-toc-modified-id=\"Homework-1.1\"><span class=\"toc-item-num\">1.1&nbsp;&nbsp;</span>Homework</a></span></li><li><span><a href=\"#Suggested-answers\" data-toc-modified-id=\"Suggested-answers-1.2\"><span class=\"toc-item-num\">1.2&nbsp;&nbsp;</span>Suggested answers</a></span></li><li><span><a href=\"#Exercise-(General-preference-function)\" data-toc-modified-id=\"Exercise-(General-preference-function)-1.3\"><span class=\"toc-item-num\">1.3&nbsp;&nbsp;</span>Exercise (General preference function)</a></span></li><li><span><a href=\"#Suggested-Answer\" data-toc-modified-id=\"Suggested-Answer-1.4\"><span class=\"toc-item-num\">1.4&nbsp;&nbsp;</span>Suggested Answer</a></span></li><li><span><a href=\"#Your-play-now-...\" data-toc-modified-id=\"Your-play-now-...-1.5\"><span class=\"toc-item-num\">1.5&nbsp;&nbsp;</span>Your play now ...</a></span></li></ul></li></ul></div>"
   ]
  },
  {
   "cell_type": "markdown",
   "metadata": {
    "nbpresent": {
     "id": "f6020116-e447-4c8a-ab3d-abc08adc4b23"
    },
    "slideshow": {
     "slide_type": "slide"
    }
   },
   "source": [
    "# OLG Recursive Equilibrium Mapping\n",
    "\n",
    "Author: Timothy Kam"
   ]
  },
  {
   "cell_type": "markdown",
   "metadata": {
    "slideshow": {
     "slide_type": "slide"
    }
   },
   "source": [
    "\n",
    "\n",
    "Key Learning Points:\n",
    "\n",
    "* Economics:\n",
    "    * *Recursive competitive equilibrium* concept\n",
    "    * Representation of dynamic competitive equilibrium as some mathematical operator\n",
    "    * Fixed point of recursive map as *steady-state* equilibrium *point*\n",
    "* Skills: Baptism by Fire or How to be a confident Pythonista\n",
    "    * Lists and arrays\n",
    "    * Some NumPy tricks\n",
    "    * Root finding (scalar) using SciPy\n",
    "    * Methods/functions\n",
    "    * The `lambda` function\n",
    "    * Programming Loops and relation to recursive economic equilibrium operator\n",
    "    * Simulation and Graphical Visualization"
   ]
  },
  {
   "cell_type": "code",
   "execution_count": 1,
   "metadata": {
    "nbpresent": {
     "id": "847fe480-b57a-41ca-9b12-e250ef72e976"
    },
    "slideshow": {
     "slide_type": "slide"
    }
   },
   "outputs": [],
   "source": [
    "# Forage, use as you need. Be kind, rewind.\n",
    "% matplotlib inline\n",
    "import numpy as np\n",
    "import matplotlib.pyplot as plt\n",
    "import scipy.optimize as opt\n",
    "import matplotlib.mlab as mlab   # For plotting given distribution functions\n",
    "from matplotlib.animation import FuncAnimation\n",
    "from IPython.display import HTML\n",
    "from matplotlib import cm"
   ]
  },
  {
   "cell_type": "markdown",
   "metadata": {
    "nbpresent": {
     "id": "a0bf99a3-d12d-4a01-bd95-797227785185"
    },
    "slideshow": {
     "slide_type": "slide"
    }
   },
   "source": [
    "## Homework\n",
    "\n",
    "Consider an example of the Allais-Samuelson-Diamond OLG model with capital. An agent (born young at date $t \\in \\mathbb{N}$) consumes $c_{y,t}$ when young and $c_{o,t+1}$ when old. There is an infinite set of such agents on the interval $[0,1]$. The date-$t$ young agent has a preference ordering over $(c_{y,t}, c_{o,t+1})$ streams which is represented by the felicity function:\n",
    "$$\n",
    "    U(c_{y,t},c_{o,t+1}) = \\ln(c_{y,t}) + \\beta \\ln(c_{o,t+1}),\n",
    "$$\n",
    "where $\\beta > 0$. The sequence of budget constraints for the agent is:\n",
    "$$\n",
    "    c_{y,t} + s_{t} = w_{t} \\times 1,\n",
    "$$\n",
    "and,\n",
    "$$\n",
    "    c_{o,t+1} = R_{t+1}s_{t},\n",
    "$$\n",
    "where $s_{t}$ is savings flow, $w_{t}$ and $R_{t}-1$, respectively, are competitive equilibrium real rental rates on labor and capital.\n",
    "\n",
    "Capital is assumed to depreciate fully in each period. Total saving in the economy, $s_{t} \\times 1$, equals new capital next period: $k_{t+1} = s_{t}$. "
   ]
  },
  {
   "cell_type": "markdown",
   "metadata": {
    "nbpresent": {
     "id": "960e2225-41fc-4855-bf14-34cd3517c628"
    },
    "slideshow": {
     "slide_type": "subslide"
    }
   },
   "source": [
    "Let $k$ denote the capital-to-labor ratio, $(A,k) \\mapsto f(A,k)$ is the production function, and $(A,k) \\mapsto f_{k}(A,k)$ is its first-order derivative function (with respect to $k$). Instantiate $f$ by $f(A_{t}, k_{t}) = A_{t}k_{t}^{\\alpha}$. The firm is perfectly competitive in both its product market and its factor input (capital and labor rental) market, and maximizes profits."
   ]
  },
  {
   "cell_type": "markdown",
   "metadata": {
    "nbpresent": {
     "id": "c1e3ec0d-30d2-4bc9-a2eb-33aa1c5b2678"
    },
    "slideshow": {
     "slide_type": "subslide"
    }
   },
   "source": [
    "Below we'll do the following:\n",
    "\n",
    "0. Write down each generation's ex-ante decision problem and characterize their optimal behavior.\n",
    "1. Do the same for the firm.\n",
    "2. Define a recursive (dynamic) competitive equilibrium (list quantities and pricesand their corresponding demand/supply and market clearing conditions).\n",
    "3. Let $\\alpha = 0.33$, $\\beta = 1.0/(1.0+0.04^{35})$, and $A_{t} = 1.0$ for all $t$. Calculate the (nontrivial) steady state value of $k>0$.\n",
    "4. Pick an initial $k_{0} < k$. Compute the economy's dynamic equilibrium outcome in terms of the variable $k_{t}$ beginning from your chosen $k_{0}$ for $T = 100$ periods.\n"
   ]
  },
  {
   "cell_type": "markdown",
   "metadata": {
    "nbpresent": {
     "id": "8862f3f8-5851-4862-826a-623d553e5506"
    },
    "slideshow": {
     "slide_type": "subslide"
    }
   },
   "source": [
    "## Suggested answers\n",
    "\n",
    "*Part 1*\n",
    "\n",
    "You can set this up as a Lagrange problem or simply substitute in the constraints and maximize over the choice variable $s_{t}$. The optimal consumption/savings functions, given market prices---$(w_{t}, R_{t})$ measured in units of the final consumption good)---are solutions to the necessary and sufficient conditions (why *and*?):\n",
    "    $$\n",
    "    \\left(\\frac{1}{c_{y,t}}\\right) = \\beta \\left( \\frac{1}{c_{o,t+1}} \\right) R_{t+1},\n",
    "    $$ \n",
    "    and,\n",
    "    $$\n",
    "    c_{y,t} + s_{t} = w_{t} \\times 1,\n",
    "    $$\n",
    "    and also,\n",
    "    $$\n",
    "        c_{o,t+1} = R_{t+1}s_{t}.\n",
    "    $$\n",
    "    Trivia: Can you interpret in words, the economic meaning of these conditions, especially the first one?"
   ]
  },
  {
   "cell_type": "markdown",
   "metadata": {
    "nbpresent": {
     "id": "6e255fce-b643-445a-a1bf-3b27470d563f"
    },
    "slideshow": {
     "slide_type": "subslide"
    }
   },
   "source": [
    "*Part 2*\n",
    "\n",
    "The firm solves:\n",
    "$$\n",
    "\\max_{K_{t}, N_{t}} f(A_{t},K_{t}/N_{t})N_{t} - \\tilde{r}_{t}K_{t} - w_{t} N_{t}.\n",
    "$$\n",
    "\n",
    "Let's pause and think about an accounting/finance matter: \n",
    "* $\\tilde{r}_{t} := (R_{t}-1 + \\delta)$ is the (effective) real rental rate faced by the firm for renting capital. \n",
    "* It has two parts: $R_{t}-1$, the market real rate of return it pays back to savers, and $\\delta$, the capital depreciation rate. \n",
    "* Intuitively, in a competitive equilibrium, zero arbitrage requires that the gross return $R_{t}$ on any form of savings vehicle (asset) must equal the gross return on capital as a savings device, but capital may depreciate. \n",
    "* Hence the requirement that $R_{t} = (1 + \\tilde{r}_{t}) - \\delta$, where the RHS is the gross return paid by firms for renting capital, but a saver needs to adjust it for the depreciation margin too. Otherwise, there is positive arbitrage profits to be made, and that cannot constitute an equilibrium."
   ]
  },
  {
   "cell_type": "markdown",
   "metadata": {
    "slideshow": {
     "slide_type": "subslide"
    }
   },
   "source": [
    "In our special setting, since $\\delta = 1$, the firm's profit maximizing decisions in our parametric instance are given by these necessary and sufficient conditions (why *and*?):\n",
    "\n",
    "$$\n",
    "w_{t} = (1 − \\alpha) A k_{t}^{\\alpha},\n",
    "$$\n",
    "and\n",
    "$$\n",
    "R_{t} = \\alpha A k_{t}^{\\alpha}.\n",
    "$$"
   ]
  },
  {
   "cell_type": "markdown",
   "metadata": {
    "nbpresent": {
     "id": "81de5ba3-8a89-4c08-8d9e-f827c4f054c0"
    },
    "slideshow": {
     "slide_type": "subslide"
    }
   },
   "source": [
    "*Part 3*\n",
    "\n",
    "Before you go into robot-algebra mode, think a little about the conditions we just derived from parts 1 and 2 above. From part 1, we get the aggregate demand for consumption goods (or supply of savings) and from part 2, we get firms' aggregate demand for labor and capital (savings transformed). \n",
    "\n",
    "Now you might wonder: Where's the friggin' labor supply? Since households do not have labor/leisure in their valuation function they'd supply whatever labor units they are endowed with (say this is normalized to $1$). Hence $k$ is both the capital-to-labor ratio and also aggregate capital. \n",
    "\n",
    "OK, we've derived demand and supply functions for factors of production. We have three markets (goods, labor and capital). It suffices to ensure that demand equals supply in the last two: The budget constraints will ensure that the other market clears too. (That's the magic of Walrasian general equilibrium!) "
   ]
  },
  {
   "cell_type": "code",
   "execution_count": 2,
   "metadata": {
    "slideshow": {
     "slide_type": "subslide"
    }
   },
   "outputs": [
    {
     "data": {
      "image/jpeg": "[encoded data removed]",
      "text/plain": [
       "<IPython.core.display.Image object>"
      ]
     },
     "execution_count": 2,
     "metadata": {
      "image/jpeg": {
       "height": 480,
       "width": 327
      }
     },
     "output_type": "execute_result"
    }
   ],
   "source": [
    "from IPython.display import Image\n",
    "url = 'https://upload.wikimedia.org/wikipedia/commons/thumb/f/fc/Walras_-_Th%C3%A9orie_math%C3%A9matique_de_la_richesse_sociale%2C_1883_-_5834436.tif/lossy-page1-327px-Walras_-_Th%C3%A9orie_math%C3%A9matique_de_la_richesse_sociale%2C_1883_-_5834436.tif.jpg'\n",
    "Image(url,width=327, height=480)"
   ]
  },
  {
   "cell_type": "markdown",
   "metadata": {
    "nbpresent": {
     "id": "e8db7cfe-6684-4226-908f-c9d88a567022"
    },
    "slideshow": {
     "slide_type": "subslide"
    }
   },
   "source": [
    "So, give it all a good algebraic jiggle, you should have a version of the following (concise) definition:  Given an initial state $k_{0}$, a *(recursive) competitive (general) equilibrium* in this model is an infinite sequence (allocation) $\\{k_{t+1}\\}_{t=0}^{\\infty}$ and a pricing system $\\{w_{t}, R_{t}\\}_{t=0}^{\\infty}$ satisfying these conditions:\n",
    "\n",
    "$$\n",
    "w_{t} = (1 − \\alpha) A k_{t}^{\\alpha}, \n",
    "$$\n",
    "and,\n",
    "$$\n",
    "R_{t} = \\alpha A k_{t}^{\\alpha-1},\n",
    "$$\n",
    "and also,\n",
    "$$\n",
    "k_{t+1} = \\frac{\\beta (1-\\alpha)}{1+\\beta} A k_{t}^{\\alpha}.\n",
    "$$\n",
    "\n",
    "What do they represent (in words?)"
   ]
  },
  {
   "cell_type": "markdown",
   "metadata": {
    "nbpresent": {
     "id": "0795c42a-40b9-48d0-bbb6-418dcd69a10d"
    },
    "slideshow": {
     "slide_type": "subslide"
    }
   },
   "source": [
    "*Part 4*\n",
    "\n",
    "Evaluate the (last) autonomous difference equation, which has the recursive form $k_{t+1} = h(k_t)$ at a (nontrivial) deterministic steady state, $k_{ss} = k_{t+1} = k_{t} > 0$. This will give us a particular trajectory of equilibrium outcomes, as a function of the given initial state $k_0$."
   ]
  },
  {
   "cell_type": "code",
   "execution_count": 3,
   "metadata": {
    "slideshow": {
     "slide_type": "subslide"
    }
   },
   "outputs": [],
   "source": [
    "# Parameters of special-case Diamond OLG model\n",
    "ALPHA = 0.33\n",
    "BETA = 1.0/(1.0+0.0435)\n",
    "A = 1.0"
   ]
  },
  {
   "cell_type": "code",
   "execution_count": 4,
   "metadata": {
    "slideshow": {
     "slide_type": "subslide"
    }
   },
   "outputs": [],
   "source": [
    "# Define the dynamic equilibrium (i.e., RCE) map\n",
    "def h(k, A):\n",
    "    \"\"\"Special case Diamond OLG RCE transition function\"\"\"\n",
    "    konstant = BETA*(1.0-ALPHA)/(1.0+BETA)\n",
    "    return konstant*A*(k**ALPHA)"
   ]
  },
  {
   "cell_type": "code",
   "execution_count": 5,
   "metadata": {
    "slideshow": {
     "slide_type": "subslide"
    }
   },
   "outputs": [
    {
     "name": "stdout",
     "output_type": "stream",
     "text": [
      "Strictly positive steady-state kss = 0.189\n"
     ]
    }
   ],
   "source": [
    "import scipy.optimize as optimize\n",
    "\n",
    "\n",
    "# We'll solve for kss > 0 numerically (although can be done by hand!)\n",
    "def g(k, A):\n",
    "    return h(k, A) - k\n",
    "kss = optimize.brentq(g, 1e-20, 20.0, args=(A,))\n",
    "# Check visually\n",
    "print(\"Strictly positive steady-state kss =%6.3f\" %(kss))"
   ]
  },
  {
   "cell_type": "code",
   "execution_count": 6,
   "metadata": {
    "slideshow": {
     "slide_type": "subslide"
    }
   },
   "outputs": [
    {
     "data": {
      "image/png": "[encoded data removed]",
      "text/plain": [
       "<matplotlib.figure.Figure at 0x7f36808e43c8>"
      ]
     },
     "metadata": {},
     "output_type": "display_data"
    }
   ],
   "source": [
    "kmax = kss*2.0\n",
    "X = np.linspace(0., kmax, 200)\n",
    "kssline = np.linspace(0.,kss,2)\n",
    "ksstile = np.tile(kss,2)\n",
    "# Figure\n",
    "fig = plt.figure(facecolor='white')\n",
    "ax = plt.axes(xlim=(X.min(), X.max()), ylim=(X.min(), X.max()))\n",
    "ax.plot(X, h(X, A), '-b', \n",
    "        X, X, '--r', \n",
    "        ksstile, kssline, '-g', \n",
    "        kssline, ksstile, '-g',\n",
    "       )\n",
    "plt.show()"
   ]
  },
  {
   "cell_type": "markdown",
   "metadata": {
    "slideshow": {
     "slide_type": "subslide"
    }
   },
   "source": [
    "*Part 5*\n",
    "\n",
    "Observe that we really only need to worry about solving the (last) autonomous difference equation, which has the recursive form $k_{t+1} = h(k_t)$, from part 2 above. Everything else can be backed out once we have the allocation in terms of $k$. I think you can take it from here on, as mechanically, this is just like the exercise you've done with Solow-Swan with just a little bit more garam masala added."
   ]
  },
  {
   "cell_type": "code",
   "execution_count": 7,
   "metadata": {
    "slideshow": {
     "slide_type": "subslide"
    }
   },
   "outputs": [],
   "source": [
    "def simulate_olg(k_init=0.01, A_init=A, T=100):\n",
    "    \"\"\"Simulate determinstic or stochastic OLG model (special case)\"\"\"\n",
    "    kpath = np.empty(T)\n",
    "    kpath[0] = k_init\n",
    "    Apath = np.tile(A_init, T)\n",
    "    for t in range(T-1):\n",
    "        kpath[t+1] = h(kpath[t], Apath[t])\n",
    "    return kpath, Apath"
   ]
  },
  {
   "cell_type": "code",
   "execution_count": 8,
   "metadata": {
    "slideshow": {
     "slide_type": "subslide"
    }
   },
   "outputs": [
    {
     "data": {
      "image/png": "[encoded data removed]",
      "text/plain": [
       "<matplotlib.figure.Figure at 0x7f3778859518>"
      ]
     },
     "metadata": {},
     "output_type": "display_data"
    }
   ],
   "source": [
    "# Invoke a simulation instance\n",
    "ksim, Asim = simulate_olg()\n",
    "# Figure\n",
    "fig = plt.figure(facecolor='white')\n",
    "plt.plot(ksim, '.-')\n",
    "plt.show()"
   ]
  },
  {
   "cell_type": "markdown",
   "metadata": {
    "collapsed": true,
    "nbpresent": {
     "id": "0dcc7d5f-b99e-4704-96b2-3a8d430fea77"
    },
    "slideshow": {
     "slide_type": "slide"
    }
   },
   "source": [
    "\n",
    "## Exercise (General preference function)\n",
    "\n",
    "Redo the previous special case, but now assuming that \n",
    "$$\n",
    "    U(c_{y,t},c_{o,t+1}) = u(c_{y,t}) + \\beta u(c_{o,t+1}),\n",
    "$$\n",
    "where \n",
    "$$\n",
    "    u(x) = \\lim_{\\hat{\\theta} \\rightarrow \\theta}\\frac{x^{1-\\hat{\\theta}} - 1}{1-\\hat{\\theta}}, \\qquad \\theta > 0.\n",
    "$$\n",
    "For the example calculations, we'll set $\\theta = 2.0$ below."
   ]
  },
  {
   "cell_type": "markdown",
   "metadata": {
    "slideshow": {
     "slide_type": "subslide"
    }
   },
   "source": [
    "## Suggested Answer\n",
    "\n",
    "I will construct the answer to the case where $A = 1$ (constant). \n",
    "\n",
    "**Consumer problem**\n",
    "\n",
    "You can set this up as a Lagrange problem or simply substitute in the constraints and maximize over the choice variable $s_{t}$. The optimal consumption/savings functions, given market prices---$(w_{t}, R_{t})$ measured in units of the final consumption good)---are solutions to the necessary and sufficient conditions:\n",
    "$$\n",
    "\\beta \\left(\\frac{c_{o,t+1}}{c_{y,t}}\\right)^{-\\theta} = \\frac{1}{R_{t+1}},\n",
    "$$ \n",
    "and,\n",
    "$$\n",
    "c_{y,t} + s_{t} = w_{t} \\times 1,\n",
    "$$\n",
    "and also,\n",
    "$$\n",
    "    c_{o,t+1} = R_{t+1}s_{t}.\n",
    "$$"
   ]
  },
  {
   "cell_type": "markdown",
   "metadata": {
    "slideshow": {
     "slide_type": "subslide"
    }
   },
   "source": [
    "The first condition says:\n",
    "* LHS: the consumer's personal (intertemporal) marginal rate of substitution between young-age and old-age consumption (i.e., her \"internal terms of trade\");\n",
    "\n",
    "* RHS: the market terms of trade, or real exchange rate, or relative price--the ratio of the price of a unit of consumption when old ($1/R_{t+1}$) to the price of a unit of consumption when young (normalized to 1).\n",
    "\n",
    "In an equilibrium, the consumer is choosing the optimal bundle such that LHS equals RHS.\n",
    "\n",
    "The second and third conditions give us back the consumer's present-value lifetime budget constraint. Again, an optimizing agent in equilibrium must be choosing an affordable bundle that is on the boundary of her budget set (hence the binding budget constraint). \n",
    "\n",
    "(Three conditions)"
   ]
  },
  {
   "cell_type": "markdown",
   "metadata": {
    "slideshow": {
     "slide_type": "subslide"
    }
   },
   "source": [
    "**Firm's problem**\n",
    "\n",
    "Same as before. (Two conditions)\n",
    "\n",
    "**Market clearing**\n",
    "\n",
    "Same as before. (Two conditions: labor demand equals labor supply; capital demand next period equals savings supply end of this period.)"
   ]
  },
  {
   "cell_type": "markdown",
   "metadata": {
    "slideshow": {
     "slide_type": "subslide"
    }
   },
   "source": [
    "**(Recursive) Competitive/General Equilibrium**\n",
    "\n",
    "Combining consumer and firm best-response characterizations (i.e., FoCs) along with market clearing conditions, we can have the following equilibrium description:\n",
    "\n",
    "**Definition**. Given an initial state $k_{0}$, a *(recursive) competitive equilibrium* in this model is an infinite sequence (allocation) $\\{k_{t+1}, s_{t}\\}_{t=0}^{\\infty}$ and a pricing system $\\{w_{t}, R_{t}\\}_{t=0}^{\\infty}$ satisfying these conditions:\n",
    "\n",
    "$$\n",
    "w_{t} = W(k_{t}) :=(1 − \\alpha) A k_{t}^{\\alpha}, \n",
    "$$\n",
    "and,\n",
    "$$\n",
    "R_{t} = R(k_{t}) := \\alpha A k_{t}^{\\alpha-1},\n",
    "$$\n",
    "and also,\n",
    "$$\n",
    "k_{t+1} = S(R_{t+1}) w_{t},\n",
    "$$\n",
    "where\n",
    "$$\n",
    "S(R_{t}) = \\frac{(R_{t})^{(1-\\theta)/\\theta}}{(1/\\beta)^{-\\theta} + (R_{t})^{(1-\\theta)/\\theta}}.\n",
    "$$"
   ]
  },
  {
   "cell_type": "markdown",
   "metadata": {
    "slideshow": {
     "slide_type": "subslide"
    }
   },
   "source": [
    "Note that now we have additional nonlinearities in the RCE map due to the fact that $\\theta > 0$ and $\\theta \\neq 1$. You can still simplify the recursive map down to a (nonlinear) difference equation in $k$, but it will be an implicit map $H(k_{t+1},k_{t}) = 0$. For every date $t$, there is a unique solution to this map at each fixed/known $k_{t}$. Why? Note that on the RHS of the explicit difference equation, $S\\circ R (\\cdot)$ is continuous and monotone in $R \\in [0, \\infty)$. A rise in $R_{t}$ (i.e., a decrease in the relative price of old-age consumption to young-age consumption $1/R$) has two effects: income effect (reduce saving) vs. substitution effect (increase saving). Here,\n",
    "* $S(R)$ is increasing in $R$ if $\\theta < 1$: substitution effect dominates income effect\n",
    "* $S(R)$ is decreasing in $R$ if $\\theta > 1$: substitution effect is dominated income effect\n",
    "* $S(R)$ is a constant if $\\theta = 1$: both effects cancel out\n",
    "\n",
    "We know $R = R(k)$ is decreasing and continuous in $k$. So we can deduce that:\n",
    "* $S\\circ R(k)$ is decreasing in $k$ if $\\theta < 1$\n",
    "* $S\\circ R(k)$ is increasing in $k$ if $\\theta > 1$\n",
    "* $S\\circ R(k)$ is a constant if $\\theta = 1$\n",
    "\n",
    "Moreover, we can check that $S(R)$ is always positive valued and less than $1$. And the LHS is just linear in $k_{t+1}$. So there is always a unique solution $k_{t+1}$ to $H(k_{t+1},k_{t}) = 0$, at every given $k_{t} > 0$."
   ]
  },
  {
   "cell_type": "code",
   "execution_count": 9,
   "metadata": {
    "slideshow": {
     "slide_type": "subslide"
    }
   },
   "outputs": [
    {
     "name": "stdout",
     "output_type": "stream",
     "text": [
      "Feasible state space:\n",
      "kmin =  0.000\n",
      "kmax = 10.000\n"
     ]
    }
   ],
   "source": [
    "α = 0.33\n",
    "β = 0.9\n",
    "θ = 2.0\n",
    "A = 1.0\n",
    "\n",
    "def f(k, A, α):\n",
    "    \"\"\"Per-worker Cobb-Douglas production\"\"\"\n",
    "    return (1.0-α)*A*k**α\n",
    "\n",
    "kmin = 0.0000001\n",
    "kmax = 10.0\n",
    "#kmax = min( optimize.brentq(lambda k: f(k, A, α) - k, kmin, kmax), kmax) \n",
    "print(\"Feasible state space:\")\n",
    "print(\"kmin = %6.3f\" % (kmin))\n",
    "print(\"kmax = %6.3f\" % (kmax))"
   ]
  },
  {
   "cell_type": "code",
   "execution_count": 10,
   "metadata": {
    "slideshow": {
     "slide_type": "subslide"
    }
   },
   "outputs": [],
   "source": [
    "def W(k, A, α):\n",
    "    \"\"\"MPL\"\"\"\n",
    "    return (1.0-α)*A*k**α\n",
    "\n",
    "def R(k, A, α):\n",
    "    \"\"\"MPK\"\"\"\n",
    "    return α*A*k**(α-1.0)\n",
    "\n",
    "def SR(k, A, α, β, θ):\n",
    "    \"\"\"Composite saving-rate function S(R(k))\"\"\"\n",
    "    RR = (R(k, A, α))**((1.0-θ)/θ)\n",
    "    bR = (1.0/β)**(1.0/θ)\n",
    "    return RR/(bR + RR)"
   ]
  },
  {
   "cell_type": "code",
   "execution_count": 11,
   "metadata": {
    "slideshow": {
     "slide_type": "subslide"
    }
   },
   "outputs": [],
   "source": [
    "def H(kprime, k, A, α, β, θ):\n",
    "    \"\"\"Define H(k, k')\"\"\"\n",
    "    return kprime - SR(kprime, A, α, β, θ)*W(k, A, α)\n",
    "    \n",
    "def h(k, A, α, β, θ):\n",
    "    \"\"\"Solve for implicit kprime = h(k)\"\"\"\n",
    "    return optimize.brentq(H, kmin, kmax, args=(k, A, α, β, θ))"
   ]
  },
  {
   "cell_type": "code",
   "execution_count": 12,
   "metadata": {
    "slideshow": {
     "slide_type": "subslide"
    }
   },
   "outputs": [],
   "source": [
    "def diamond_steadystate(A=1.0, α=0.33, β=0.9, θ=1.0):\n",
    "    return optimize.brentq(lambda k: h(k, A, α, β, θ)-k, kmin, kmax)"
   ]
  },
  {
   "cell_type": "code",
   "execution_count": 13,
   "metadata": {
    "slideshow": {
     "slide_type": "subslide"
    }
   },
   "outputs": [],
   "source": [
    "def diamond_simulate(k0=0.01, T=30, A=1.0, α=0.33, β=0.9, θ=1.0):\n",
    "    \"\"\"Solving for the trajectory of capital in an RCE\"\"\"\n",
    "    k = k0\n",
    "    kpath = [k]\n",
    "    for t in range(T-1):\n",
    "        kprime = h(k, A, α, β, θ)\n",
    "        kpath.append(kprime)\n",
    "        k = kprime\n",
    "    return np.asarray(kpath)"
   ]
  },
  {
   "cell_type": "code",
   "execution_count": 14,
   "metadata": {
    "slideshow": {
     "slide_type": "subslide"
    }
   },
   "outputs": [],
   "source": [
    "# Visualization method - Phase plot\n",
    "def diamond_phase(A=1.0, α=0.33, β=0.9, θ=1.0, kmax=0.5):\n",
    "    # Steady state (k > 0):\n",
    "    kss = diamond_steadystate(A, α, β, θ)\n",
    "    print(\"Steady state (k > 0) = %6.3f\" % (kss))\n",
    "    # Solve for RCE path\n",
    "    X = np.linspace(kmin, kmax, 1000)\n",
    "    knext = [ h(k, A, α, β, θ) for k in X ]\n",
    "    # Plot them\n",
    "    plt.plot(X, knext, '-b', X, X, '-r')\n",
    "    plt.show()"
   ]
  },
  {
   "cell_type": "code",
   "execution_count": 15,
   "metadata": {
    "slideshow": {
     "slide_type": "subslide"
    }
   },
   "outputs": [
    {
     "name": "stdout",
     "output_type": "stream",
     "text": [
      "Steady state (k > 0) =  0.187\n"
     ]
    },
    {
     "data": {
      "image/png": "[encoded data removed]",
      "text/plain": [
       "<matplotlib.figure.Figure at 0x7f37787367b8>"
      ]
     },
     "metadata": {},
     "output_type": "display_data"
    }
   ],
   "source": [
    "# Visualize for case when THETA = 2\n",
    "diamond_phase(θ=2.0)"
   ]
  },
  {
   "cell_type": "code",
   "execution_count": 16,
   "metadata": {
    "slideshow": {
     "slide_type": "subslide"
    }
   },
   "outputs": [],
   "source": [
    "# Visualization method - Time path\n",
    "def diamond_kshow(k0=0.01, T=30, A=1.0, α=0.33, β=0.9, θ=1.0):\n",
    "    # Steady state (k > 0):\n",
    "    kss = diamond_steadystate(A, α, β, θ)\n",
    "    print(\"Steady state (k > 0) = %6.3f\" % (kss))\n",
    "    # Solve for RCE path\n",
    "    ksim = diamond_simulate(k0, T, A, α, β, θ)\n",
    "    # Plot them\n",
    "    dates = np.arange(ksim.size)\n",
    "    plt.plot(dates, ksim, '-o', dates, np.tile(kss, ksim.shape), '-r')\n",
    "    plt.show()"
   ]
  },
  {
   "cell_type": "code",
   "execution_count": 17,
   "metadata": {
    "slideshow": {
     "slide_type": "subslide"
    }
   },
   "outputs": [
    {
     "name": "stdout",
     "output_type": "stream",
     "text": [
      "Steady state (k > 0) =  0.187\n"
     ]
    },
    {
     "data": {
      "image/png": "[encoded data removed]",
      "text/plain": [
       "<matplotlib.figure.Figure at 0x7f37786f1668>"
      ]
     },
     "metadata": {},
     "output_type": "display_data"
    }
   ],
   "source": [
    "# Visualize for case when THETA = 2\n",
    "diamond_kshow(k0=0.0235481, θ=2.0)"
   ]
  },
  {
   "cell_type": "code",
   "execution_count": 18,
   "metadata": {
    "slideshow": {
     "slide_type": "subslide"
    }
   },
   "outputs": [
    {
     "data": {
      "application/vnd.jupyter.widget-view+json": {
       "model_id": "c4f4a0188f0f4de2af8cc8eb36de601d",
       "version_major": 2,
       "version_minor": 0
      },
      "text/html": [
       "<p>Failed to display Jupyter Widget of type <code>interactive</code>.</p>\n",
       "<p>\n",
       "  If you're reading this message in the Jupyter Notebook or JupyterLab Notebook, it may mean\n",
       "  that the widgets JavaScript is still loading. If this message persists, it\n",
       "  likely means that the widgets JavaScript library is either not installed or\n",
       "  not enabled. See the <a href=\"https://ipywidgets.readthedocs.io/en/stable/user_install.html\">Jupyter\n",
       "  Widgets Documentation</a> for setup instructions.\n",
       "</p>\n",
       "<p>\n",
       "  If you're reading this message in another frontend (for example, a static\n",
       "  rendering on GitHub or <a href=\"https://nbviewer.jupyter.org/\">NBViewer</a>),\n",
       "  it may mean that your frontend doesn't currently support widgets.\n",
       "</p>\n"
      ],
      "text/plain": [
       "interactive(children=(FloatSlider(value=1.0, description='A', max=1.5, min=1.0), FloatSlider(value=0.33, description='α', max=0.4, min=0.2), FloatSlider(value=0.9, description='β', max=0.99999, min=0.1), FloatSlider(value=1.0, description='θ', max=20.0, min=0.1), Output()), _dom_classes=('widget-interact',))"
      ]
     },
     "metadata": {},
     "output_type": "display_data"
    }
   ],
   "source": [
    "# Now let's make it interactive\n",
    "from ipywidgets import interact, fixed\n",
    "interact(diamond_phase, \n",
    "              A=(1.0,1.5), \n",
    "              α=(0.2,0.4), \n",
    "              β=(0.1, 0.99999), \n",
    "              θ=(0.1, 20.0),\n",
    "              kmax=fixed(1.0)\n",
    "             )\n",
    "plt.show()"
   ]
  },
  {
   "cell_type": "code",
   "execution_count": 19,
   "metadata": {
    "slideshow": {
     "slide_type": "subslide"
    }
   },
   "outputs": [
    {
     "data": {
      "application/vnd.jupyter.widget-view+json": {
       "model_id": "0603679b4ae94f7d957f64b6f723bc9c",
       "version_major": 2,
       "version_minor": 0
      },
      "text/html": [
       "<p>Failed to display Jupyter Widget of type <code>interactive</code>.</p>\n",
       "<p>\n",
       "  If you're reading this message in the Jupyter Notebook or JupyterLab Notebook, it may mean\n",
       "  that the widgets JavaScript is still loading. If this message persists, it\n",
       "  likely means that the widgets JavaScript library is either not installed or\n",
       "  not enabled. See the <a href=\"https://ipywidgets.readthedocs.io/en/stable/user_install.html\">Jupyter\n",
       "  Widgets Documentation</a> for setup instructions.\n",
       "</p>\n",
       "<p>\n",
       "  If you're reading this message in another frontend (for example, a static\n",
       "  rendering on GitHub or <a href=\"https://nbviewer.jupyter.org/\">NBViewer</a>),\n",
       "  it may mean that your frontend doesn't currently support widgets.\n",
       "</p>\n"
      ],
      "text/plain": [
       "interactive(children=(FloatSlider(value=0.01, description='k0', max=3.0, min=0.01), IntSlider(value=30, description='T', min=10), FloatSlider(value=1.0, description='A', max=1.5, min=1.0), FloatSlider(value=0.33, description='α', max=0.4, min=0.2), FloatSlider(value=0.9, description='β', max=0.99, min=0.1), FloatSlider(value=1.0, description='θ', max=20.0, min=0.1), Output()), _dom_classes=('widget-interact',))"
      ]
     },
     "metadata": {},
     "output_type": "display_data"
    }
   ],
   "source": [
    "# Interactive time path - comparative dynamics\n",
    "interact(diamond_kshow, \n",
    "              k0=(0.01, 3.0),\n",
    "              T=(10,100), \n",
    "              A=(1.0,1.5), \n",
    "              α=(0.2,0.4), \n",
    "              β=(0.1, 0.99), \n",
    "              θ=(0.1, 20.0)\n",
    "             )\n",
    "plt.show()"
   ]
  },
  {
   "cell_type": "markdown",
   "metadata": {
    "slideshow": {
     "slide_type": "subslide"
    }
   },
   "source": [
    "## Your play now ...\n",
    "\n",
    "So the above example assumes there to be no government. What if now there is a constant tax on each young person $\\tau$ each period and this is transferred to the contemporaneous old"
   ]
  }
 ],
 "metadata": {
  "celltoolbar": "Slideshow",
  "kernelspec": {
   "display_name": "Python 3",
   "language": "python",
   "name": "python3"
  },
  "language_info": {
   "codemirror_mode": {
    "name": "ipython",
    "version": 3
   },
   "file_extension": ".py",
   "mimetype": "text/x-python",
   "name": "python",
   "nbconvert_exporter": "python",
   "pygments_lexer": "ipython3",
   "version": "3.6.12"
  },
  "latex_envs": {
   "LaTeX_envs_menu_present": true,
   "autoclose": false,
   "autocomplete": false,
   "bibliofile": "biblio.bib",
   "cite_by": "apalike",
   "current_citInitial": 1,
   "eqLabelWithNumbers": true,
   "eqNumInitial": 1,
   "hotkeys": {
    "equation": "Ctrl-E",
    "itemize": "Ctrl-I"
   },
   "labels_anchors": false,
   "latex_user_defs": false,
   "report_style_numbering": true,
   "user_envs_cfg": true
  },
  "toc": {
   "base_numbering": 1,
   "nav_menu": {},
   "number_sections": true,
   "sideBar": false,
   "skip_h1_title": false,
   "title_cell": "Table of Contents",
   "title_sidebar": "Contents",
   "toc_cell": true,
   "toc_position": {},
   "toc_section_display": true,
   "toc_window_display": true
  },
  "widgets": {
   "application/vnd.jupyter.widget-state+json": {
    "state": {
     "0603679b4ae94f7d957f64b6f723bc9c": {
      "model_module": "@jupyter-widgets/controls",
      "model_module_version": "1.1.0",
      "model_name": "VBoxModel",
      "state": {
       "_dom_classes": [
        "widget-interact"
       ],
       "children": [
        "IPY_MODEL_c00d9a1fe0ad49b08be7b0abede7e121",
        "IPY_MODEL_d56fcbf15d2e4575817fb73920f95105",
        "IPY_MODEL_fb4725a2b85a4f698f0b5586e796bf4b",
        "IPY_MODEL_f5ab4b452ff846a3b34c4f7b14d81f34",
        "IPY_MODEL_94373a35e77b45f0baa26cab1d61855b",
        "IPY_MODEL_24cc896f625c45e1a56ea45326ab0be7",
        "IPY_MODEL_c703b7a79cc84f4499d6f8f6dc485846"
       ],
       "layout": "IPY_MODEL_ff180048c9d54f628f4212a51ce9cc7d"
      }
     },
     "0672e056f0f74b61b9014c92b419fab7": {
      "model_module": "@jupyter-widgets/controls",
      "model_module_version": "1.1.0",
      "model_name": "SliderStyleModel",
      "state": {
       "description_width": ""
      }
     },
     "0dc4deb60dc94364a3edbf69dbe12a12": {
      "model_module": "@jupyter-widgets/base",
      "model_module_version": "1.0.0",
      "model_name": "LayoutModel",
      "state": {}
     },
     "1c022cd5b28442b199771e7192746b13": {
      "model_module": "@jupyter-widgets/base",
      "model_module_version": "1.0.0",
      "model_name": "LayoutModel",
      "state": {}
     },
     "24cc896f625c45e1a56ea45326ab0be7": {
      "model_module": "@jupyter-widgets/controls",
      "model_module_version": "1.1.0",
      "model_name": "FloatSliderModel",
      "state": {
       "description": "θ",
       "layout": "IPY_MODEL_1c022cd5b28442b199771e7192746b13",
       "max": 20,
       "min": 0.1,
       "step": 0.1,
       "style": "IPY_MODEL_e99319d674c948bd8d44e8839ec6da84",
       "value": 1
      }
     },
     "2917209fef6a49318467a37849134edc": {
      "model_module": "@jupyter-widgets/controls",
      "model_module_version": "1.1.0",
      "model_name": "SliderStyleModel",
      "state": {
       "description_width": ""
      }
     },
     "2b1560ba9ef540fbbee0d4f516ccf57b": {
      "model_module": "@jupyter-widgets/base",
      "model_module_version": "1.0.0",
      "model_name": "LayoutModel",
      "state": {}
     },
     "320a36acc1724bbe9f7204653b4b155b": {
      "model_module": "@jupyter-widgets/controls",
      "model_module_version": "1.1.0",
      "model_name": "FloatSliderModel",
      "state": {
       "description": "β",
       "layout": "IPY_MODEL_e36b7cbb8186430c98391f414143db97",
       "max": 0.99999,
       "min": 0.1,
       "step": 0.1,
       "style": "IPY_MODEL_0672e056f0f74b61b9014c92b419fab7",
       "value": 0.1
      }
     },
     "360fd09ab1a440b7a679b99bb07e190a": {
      "model_module": "@jupyter-widgets/base",
      "model_module_version": "1.0.0",
      "model_name": "LayoutModel",
      "state": {}
     },
     "3bf7d680af5b4679b792987dfe5541e8": {
      "model_module": "@jupyter-widgets/controls",
      "model_module_version": "1.1.0",
      "model_name": "SliderStyleModel",
      "state": {
       "description_width": ""
      }
     },
     "4f8a0d33e87f42ec84985cb291f5cd7b": {
      "model_module": "@jupyter-widgets/base",
      "model_module_version": "1.0.0",
      "model_name": "LayoutModel",
      "state": {}
     },
     "552da969ecdb444c84e6555c39124d26": {
      "model_module": "@jupyter-widgets/controls",
      "model_module_version": "1.1.0",
      "model_name": "FloatSliderModel",
      "state": {
       "description": "θ",
       "layout": "IPY_MODEL_0dc4deb60dc94364a3edbf69dbe12a12",
       "max": 20,
       "min": 0.1,
       "step": 0.1,
       "style": "IPY_MODEL_3bf7d680af5b4679b792987dfe5541e8",
       "value": 7.4
      }
     },
     "5b60b54cd80a49d7b480b162d72aa349": {
      "model_module": "@jupyter-widgets/base",
      "model_module_version": "1.0.0",
      "model_name": "LayoutModel",
      "state": {}
     },
     "66e0cf48e2194766b0bb6159f6bdb7d6": {
      "model_module": "@jupyter-widgets/controls",
      "model_module_version": "1.1.0",
      "model_name": "SliderStyleModel",
      "state": {
       "description_width": ""
      }
     },
     "86dcc77f496648cebdbfb8a1e46d54fe": {
      "model_module": "@jupyter-widgets/controls",
      "model_module_version": "1.1.0",
      "model_name": "SliderStyleModel",
      "state": {
       "description_width": ""
      }
     },
     "8d86b498385f400698755d614e99dc57": {
      "model_module": "@jupyter-widgets/output",
      "model_module_version": "1.0.0",
      "model_name": "OutputModel",
      "state": {
       "layout": "IPY_MODEL_5b60b54cd80a49d7b480b162d72aa349",
       "outputs": [
        {
         "name": "stdout",
         "output_type": "stream",
         "text": "Steady state (k > 0) =  0.118\n"
        },
        {
         "data": {
          "image/png": "iVBORw0KGgoAAAANSUhEUgAAAXcAAAD8CAYAAACMwORRAAAABHNCSVQICAgIfAhkiAAAAAlwSFlz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\nAABJRU5ErkJggg==\n",
          "text/plain": "<matplotlib.figure.Figure at 0x7f376448deb8>"
         },
         "metadata": {},
         "output_type": "display_data"
        }
       ]
      }
     },
     "94373a35e77b45f0baa26cab1d61855b": {
      "model_module": "@jupyter-widgets/controls",
      "model_module_version": "1.1.0",
      "model_name": "FloatSliderModel",
      "state": {
       "description": "β",
       "layout": "IPY_MODEL_ddc0f9b235e045e7a0b6bb2c5868f477",
       "max": 0.99,
       "min": 0.1,
       "step": 0.1,
       "style": "IPY_MODEL_66e0cf48e2194766b0bb6159f6bdb7d6",
       "value": 0.9
      }
     },
     "9b5e4239807640878a79652cd29877c0": {
      "model_module": "@jupyter-widgets/base",
      "model_module_version": "1.0.0",
      "model_name": "LayoutModel",
      "state": {}
     },
     "a0198d6e7d7e49e7afae2ec7a1615568": {
      "model_module": "@jupyter-widgets/base",
      "model_module_version": "1.0.0",
      "model_name": "LayoutModel",
      "state": {}
     },
     "a7cdd80c219646b99ee3ef02ef64a0be": {
      "model_module": "@jupyter-widgets/base",
      "model_module_version": "1.0.0",
      "model_name": "LayoutModel",
      "state": {}
     },
     "abd9b20744894c9e8c22b0229e0b7b4b": {
      "model_module": "@jupyter-widgets/controls",
      "model_module_version": "1.1.0",
      "model_name": "SliderStyleModel",
      "state": {
       "description_width": ""
      }
     },
     "b90c42a571c24a2db771bcc73293b6bc": {
      "model_module": "@jupyter-widgets/base",
      "model_module_version": "1.0.0",
      "model_name": "LayoutModel",
      "state": {}
     },
     "c00d9a1fe0ad49b08be7b0abede7e121": {
      "model_module": "@jupyter-widgets/controls",
      "model_module_version": "1.1.0",
      "model_name": "FloatSliderModel",
      "state": {
       "description": "k0",
       "layout": "IPY_MODEL_2b1560ba9ef540fbbee0d4f516ccf57b",
       "max": 3,
       "min": 0.01,
       "step": 0.1,
       "style": "IPY_MODEL_ef176650ef4e4e97bedbb1ad3dc53498",
       "value": 0.01
      }
     },
     "c1c464f913f64f949e2e7c4fcd32c8d6": {
      "model_module": "@jupyter-widgets/controls",
      "model_module_version": "1.1.0",
      "model_name": "FloatSliderModel",
      "state": {
       "description": "A",
       "layout": "IPY_MODEL_a0198d6e7d7e49e7afae2ec7a1615568",
       "max": 1.5,
       "min": 1,
       "step": 0.1,
       "style": "IPY_MODEL_86dcc77f496648cebdbfb8a1e46d54fe",
       "value": 1
      }
     },
     "c4f4a0188f0f4de2af8cc8eb36de601d": {
      "model_module": "@jupyter-widgets/controls",
      "model_module_version": "1.1.0",
      "model_name": "VBoxModel",
      "state": {
       "_dom_classes": [
        "widget-interact"
       ],
       "children": [
        "IPY_MODEL_c1c464f913f64f949e2e7c4fcd32c8d6",
        "IPY_MODEL_e87543ccc69044c4b338bb7d400fe6f5",
        "IPY_MODEL_320a36acc1724bbe9f7204653b4b155b",
        "IPY_MODEL_552da969ecdb444c84e6555c39124d26",
        "IPY_MODEL_8d86b498385f400698755d614e99dc57"
       ],
       "layout": "IPY_MODEL_9b5e4239807640878a79652cd29877c0"
      }
     },
     "c703b7a79cc84f4499d6f8f6dc485846": {
      "model_module": "@jupyter-widgets/output",
      "model_module_version": "1.0.0",
      "model_name": "OutputModel",
      "state": {
       "layout": "IPY_MODEL_c726e59ee225493cb3ea63b9697c3190",
       "outputs": [
        {
         "name": "stdout",
         "output_type": "stream",
         "text": "Steady state (k > 0) =  0.180\n"
        },
        {
         "data": {
          "image/png": "iVBORw0KGgoAAAANSUhEUgAAAYQAAAD8CAYAAAB3u9PLAAAABHNCSVQICAgIfAhkiAAAAAlwSFlz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\nRK5CYII=\n",
          "text/plain": "<matplotlib.figure.Figure at 0x7f3778706978>"
         },
         "metadata": {},
         "output_type": "display_data"
        }
       ]
      }
     },
     "c726e59ee225493cb3ea63b9697c3190": {
      "model_module": "@jupyter-widgets/base",
      "model_module_version": "1.0.0",
      "model_name": "LayoutModel",
      "state": {}
     },
     "cf301a5d72194ab490e6103f0a3991e0": {
      "model_module": "@jupyter-widgets/controls",
      "model_module_version": "1.1.0",
      "model_name": "SliderStyleModel",
      "state": {
       "description_width": ""
      }
     },
     "d3f1cc6bd53f4ba7a4cd3e81d556a0e0": {
      "model_module": "@jupyter-widgets/controls",
      "model_module_version": "1.1.0",
      "model_name": "SliderStyleModel",
      "state": {
       "description_width": ""
      }
     },
     "d56fcbf15d2e4575817fb73920f95105": {
      "model_module": "@jupyter-widgets/controls",
      "model_module_version": "1.1.0",
      "model_name": "IntSliderModel",
      "state": {
       "description": "T",
       "layout": "IPY_MODEL_a7cdd80c219646b99ee3ef02ef64a0be",
       "min": 10,
       "style": "IPY_MODEL_2917209fef6a49318467a37849134edc",
       "value": 30
      }
     },
     "ddc0f9b235e045e7a0b6bb2c5868f477": {
      "model_module": "@jupyter-widgets/base",
      "model_module_version": "1.0.0",
      "model_name": "LayoutModel",
      "state": {}
     },
     "e36b7cbb8186430c98391f414143db97": {
      "model_module": "@jupyter-widgets/base",
      "model_module_version": "1.0.0",
      "model_name": "LayoutModel",
      "state": {}
     },
     "e87543ccc69044c4b338bb7d400fe6f5": {
      "model_module": "@jupyter-widgets/controls",
      "model_module_version": "1.1.0",
      "model_name": "FloatSliderModel",
      "state": {
       "description": "α",
       "layout": "IPY_MODEL_360fd09ab1a440b7a679b99bb07e190a",
       "max": 0.4,
       "min": 0.2,
       "step": 0.1,
       "style": "IPY_MODEL_d3f1cc6bd53f4ba7a4cd3e81d556a0e0",
       "value": 0.33
      }
     },
     "e99319d674c948bd8d44e8839ec6da84": {
      "model_module": "@jupyter-widgets/controls",
      "model_module_version": "1.1.0",
      "model_name": "SliderStyleModel",
      "state": {
       "description_width": ""
      }
     },
     "ef176650ef4e4e97bedbb1ad3dc53498": {
      "model_module": "@jupyter-widgets/controls",
      "model_module_version": "1.1.0",
      "model_name": "SliderStyleModel",
      "state": {
       "description_width": ""
      }
     },
     "f5ab4b452ff846a3b34c4f7b14d81f34": {
      "model_module": "@jupyter-widgets/controls",
      "model_module_version": "1.1.0",
      "model_name": "FloatSliderModel",
      "state": {
       "description": "α",
       "layout": "IPY_MODEL_b90c42a571c24a2db771bcc73293b6bc",
       "max": 0.4,
       "min": 0.2,
       "step": 0.1,
       "style": "IPY_MODEL_abd9b20744894c9e8c22b0229e0b7b4b",
       "value": 0.33
      }
     },
     "fb4725a2b85a4f698f0b5586e796bf4b": {
      "model_module": "@jupyter-widgets/controls",
      "model_module_version": "1.1.0",
      "model_name": "FloatSliderModel",
      "state": {
       "description": "A",
       "layout": "IPY_MODEL_4f8a0d33e87f42ec84985cb291f5cd7b",
       "max": 1.5,
       "min": 1,
       "step": 0.1,
       "style": "IPY_MODEL_cf301a5d72194ab490e6103f0a3991e0",
       "value": 1
      }
     },
     "ff180048c9d54f628f4212a51ce9cc7d": {
      "model_module": "@jupyter-widgets/base",
      "model_module_version": "1.0.0",
      "model_name": "LayoutModel",
      "state": {}
     }
    },
    "version_major": 2,
    "version_minor": 0
   }
  }
 },
 "nbformat": 4,
 "nbformat_minor": 2
}
