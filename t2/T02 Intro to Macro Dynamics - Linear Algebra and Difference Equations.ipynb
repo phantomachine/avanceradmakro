{
 "cells": [
  {
   "cell_type": "markdown",
   "metadata": {
    "toc": true
   },
   "source": [
    "<h1>Table of Contents<span class=\"tocSkip\"></span></h1>\n",
    "<div class=\"toc\"><ul class=\"toc-item\"><li><span><a href=\"#Intro-to-Macro-Dynamics:-Linear-Algebra-and-Difference-Equation(s)\" data-toc-modified-id=\"Intro-to-Macro-Dynamics:-Linear-Algebra-and-Difference-Equation(s)-1\"><span class=\"toc-item-num\">1&nbsp;&nbsp;</span>Intro to Macro Dynamics: Linear Algebra and Difference Equation(s)</a></span><ul class=\"toc-item\"><li><span><a href=\"#Homework-1-(Self-study)\" data-toc-modified-id=\"Homework-1-(Self-study)-1.1\"><span class=\"toc-item-num\">1.1&nbsp;&nbsp;</span>Homework 1 (Self-study)</a></span></li><li><span><a href=\"#Homework-2\" data-toc-modified-id=\"Homework-2-1.2\"><span class=\"toc-item-num\">1.2&nbsp;&nbsp;</span>Homework 2</a></span></li><li><span><a href=\"#Homework-3\" data-toc-modified-id=\"Homework-3-1.3\"><span class=\"toc-item-num\">1.3&nbsp;&nbsp;</span>Homework 3</a></span></li><li><span><a href=\"#Exercise-4\" data-toc-modified-id=\"Exercise-4-1.4\"><span class=\"toc-item-num\">1.4&nbsp;&nbsp;</span>Exercise 4</a></span></li><li><span><a href=\"#Exercise-5\" data-toc-modified-id=\"Exercise-5-1.5\"><span class=\"toc-item-num\">1.5&nbsp;&nbsp;</span>Exercise 5</a></span></li><li><span><a href=\"#Exercise-6\" data-toc-modified-id=\"Exercise-6-1.6\"><span class=\"toc-item-num\">1.6&nbsp;&nbsp;</span>Exercise 6</a></span></li><li><span><a href=\"#Exercise-7\" data-toc-modified-id=\"Exercise-7-1.7\"><span class=\"toc-item-num\">1.7&nbsp;&nbsp;</span>Exercise 7</a></span></li><li><span><a href=\"#Homework-8\" data-toc-modified-id=\"Homework-8-1.8\"><span class=\"toc-item-num\">1.8&nbsp;&nbsp;</span>Homework 8</a></span></li></ul></li></ul></div>"
   ]
  },
  {
   "cell_type": "markdown",
   "metadata": {},
   "source": [
    "# Intro to Macro Dynamics: Linear Algebra and Difference Equation(s)\n",
    "\n",
    "by [MachinaFantasma](https://phantomachine.github.io/) | [Twitter](https://twitter.com/machinafantasma)"
   ]
  },
  {
   "cell_type": "markdown",
   "metadata": {},
   "source": [
    "**Key Learning Points**\n",
    "\n",
    "Skills:\n",
    "    \n",
    "* Linear algebra in action\n",
    "\n",
    "* Applying first-order difference equations\n",
    "\n",
    "    * Finding general solutions - complementary and particular solutions\n",
    "\n",
    "* Modelling dynamical systems\n",
    "\n",
    "* Steady state concept of a dynamical system\n",
    "\n",
    "* Stability of dynamics in a linear difference equation (system)\n",
    "\n",
    "    * Purpose of eigenvalues\n",
    "    \n",
    "    * Relation to eigenvectors\n",
    "    \n",
    "    * Uncoupling multivariable systems\n",
    "    \n",
    "    * Linear maps\n",
    "\n",
    "* Phase diagrams as useful, intuitive device for low-dimensional systems\n",
    "\n",
    "Application in Economics:\n",
    "\n",
    "* Aggregate dynamic economies: AD-AS\n",
    "\n",
    "* Transitional equilibria\n",
    "\n",
    "* Steady state equilibria"
   ]
  },
  {
   "cell_type": "code",
   "execution_count": 29,
   "metadata": {},
   "outputs": [],
   "source": [
    "import numpy as np\n",
    "import matplotlib.pyplot as plt\n",
    "\n",
    "# Notebook magic to plot inline\n",
    "%matplotlib inline"
   ]
  },
  {
   "cell_type": "markdown",
   "metadata": {},
   "source": [
    "## Homework 1 (Self-study)"
   ]
  },
  {
   "cell_type": "markdown",
   "metadata": {},
   "source": [
    "Please work through and reproduce (without peeking) the example in Section 9.3 of your Simon and Blume reading. Now complete the exercises at the back of that chapter:\n",
    "* Exercise 9.15\n",
    "* Exercise 9.16\n",
    "* Exercise 9.17"
   ]
  },
  {
   "cell_type": "markdown",
   "metadata": {},
   "source": [
    "## Homework 2\n",
    "\n",
    "Let time be indexed by the natural number, $t \\in \\mathbb{N} := \\{ 0, 1, 2, ... \\}$. Consider the (scalar) difference equation:\n",
    "\n",
    "$$\n",
    "    y_{t+1} = a y_{t} + b, \\qquad y_{0} \\text{ given}.\n",
    "$$\n",
    "\n",
    "The parameters are such that $a \\in (-\\infty, +\\infty)$, $a \\neq 1$, and $b \\in (-\\infty, +\\infty)$.\n",
    "\n",
    "a general solution to this difference equation is a *trajectory function* (or a *general solution*) that can be decomposed by a *particular* ($y_{t}^{p}$) and a *complementary* ($y_{t}^{c}$) solution.\n",
    "\n",
    "1. Show that a *particular solution*, $y_{t}^{p}$, to this equation is a steady-state point, $y^{\\ast}$, such that\n",
    "    $$\n",
    "    y_{t}^{p} = y^{\\ast} = \\frac{b}{1-a}, \\qquad, a \\neq 1.\n",
    "    $$\n",
    "    \n",
    "2. Guess that *complementary solution* has this form:\n",
    "    $$\n",
    "    y_{t}^{c} = c k^{t},\n",
    "    $$\n",
    "   where $c$ and $k$ are parameters to be determined. \n",
    "   * Prove that a solution of this form satisfies the difference equation if and only if $k = a$.\n",
    "   * Next, show that\n",
    "       $$\n",
    "       c = y_{0} - \\frac{b}{1-a}, \n",
    "       $$\n",
    "     if $a \\neq 1$.\n",
    "     \n",
    "3. Show that the general solution is given by the time path:\n",
    "    $$\n",
    "    y_{t} = \\left(y_{0} - \\frac{b}{1-a}\\right)a^{t} + \\frac{b}{1+a}.\n",
    "    $$\n"
   ]
  },
  {
   "cell_type": "markdown",
   "metadata": {},
   "source": [
    "## Homework 3\n",
    "\n",
    "Another way to solve Homework 2 is by induction (recursive forward substitution from $y_{0}$). Show that this method also produces the same answer as the last line asserted in Homework 2."
   ]
  },
  {
   "cell_type": "markdown",
   "metadata": {},
   "source": [
    "## Exercise 4\n",
    "\n",
    "Consider the previous questions. What if $a = 1$? \n",
    "\n",
    "* Show that the general solution in this case is $y_{t} = bt + y_{0}$.\n",
    "\n",
    "* Stare at this solution. What can you say about the dynamic behavior of the outcome from this trajectory function?"
   ]
  },
  {
   "cell_type": "markdown",
   "metadata": {},
   "source": [
    "## Exercise 5\n",
    "\n",
    "Now consider the previous questions again. What if $|a| \\in (0,1)$?\n",
    "\n",
    "\n",
    "\n",
    "(The notation $| \\cdot |$ refers to the absolute-value operator.)"
   ]
  },
  {
   "cell_type": "markdown",
   "metadata": {},
   "source": [
    "## Exercise 6\n",
    "\n",
    "Now consider the previous questions again. What if $|a| \\in (1,+\\infty)$?\n",
    "\n",
    "* Show that the general solution from Homework 2 is ill-conditioned: It implies an explosive path.\n",
    "\n",
    "* Now, consider another solution strategy: It suffices to solve the difference equation forward. Show that the *forward solution* is \n",
    "    $$\n",
    "    y_{t} = \\left( \\frac{1}{a} \\right)^{j}y_{t+j} -  \\frac{1}{a} \\sum_{s=0}^{j-1}\\left(\\frac{1}{a}\\right)^{s}b. \\qquad j\\geq 1.\n",
    "    $$\n",
    "    \n",
    "* Argue that this forward solution converges (i.e., as you take the limit of $t \\rightarrow +\\infty$). What does this converge to?\n",
    "\n",
    "* What would be the difficulty in pining down this solution though? Explain why."
   ]
  },
  {
   "cell_type": "markdown",
   "metadata": {},
   "source": [
    "## Exercise 7\n",
    "\n",
    "Consider the (scalar) difference equation:\n",
    "\n",
    "$$\n",
    "    y_{t+1} = a y_{t} + b, \\qquad y_{0} \\text{ given}.\n",
    "$$\n",
    "\n",
    "The parameters are such that $a \\in (-\\infty, +\\infty)$, $a \\neq 1$, and $b \\in (-\\infty, +\\infty)$.\n",
    "\n",
    "Using this notebook and Python, plot the graph of this equation in a phase diagram (here, put $k_{t}$ on the horizontal axis, and, put $k_{t+1}$ on the vertical axis). Also, include the 45-degree line in this diagram too.\n",
    "\n",
    "Assume $b = 1$.\n",
    "\n",
    "* What does the graph look like when $a = 0.3$? \n",
    "\n",
    "* What does the graph look like when $a = -0.3$?\n",
    "\n",
    "* What does the graph look like when $a = 1.3$?\n",
    "\n",
    "* What does the graph look like when $a = -1.3$?\n",
    "\n",
    "* Also, for all these cases above, compute and plot the trajectory of $y_{t}$ assuming that $y_{0}$ is not at the steady state $y_{0}$. Suppose $y_{0} < y^{\\ast}$.\n",
    "\n",
    "Below, I have pre-defined some modules/functions for you. You just need to apply them to answer these questions above. Adapt from the [various examples in this short note online](https://phantomachine.github.io/econ8022/pyprog.html) - be creative and keep working through and fixing any errors in your code!"
   ]
  },
  {
   "cell_type": "code",
   "execution_count": 68,
   "metadata": {},
   "outputs": [],
   "source": [
    "def lde(y, a, b):\n",
    "    \"\"\"First-order linear difference equation\n",
    "    a: coefficient on lag y\n",
    "    b: constant term\n",
    "    \"\"\"\n",
    "    ynext = a*y + b\n",
    "    return ynext\n",
    "\n",
    "def lde_steadystate(a, b):\n",
    "    \"\"\"First-order linear difference equation\n",
    "    a: coefficient on lag y\n",
    "    b: constant term\n",
    "    \"\"\"\n",
    "    ystar = b/(1.0 - a)\n",
    "    return ystar\n",
    "\n",
    "# Loop to generate trajectory given model and parameters:\n",
    "def lde_trajectory(a, b, y0, T=100):\n",
    "    \"\"\"Simulate the outcome path of the LDE\"\"\"\n",
    "    y = y0\n",
    "    path = [ y ]\n",
    "    for t in range(T):\n",
    "        # Evaluate LDE at current y := y(t)\n",
    "        ynext = lde(y, a, b)\n",
    "        # Store outcome in path\n",
    "        path.append(ynext)\n",
    "        # Update y(t) for next period (iteration)\n",
    "        y = ynext  \n",
    "    return path"
   ]
  },
  {
   "cell_type": "markdown",
   "metadata": {},
   "source": [
    "I'll do the first question for you:"
   ]
  },
  {
   "cell_type": "code",
   "execution_count": 73,
   "metadata": {},
   "outputs": [
    {
     "name": "stdout",
     "output_type": "stream",
     "text": [
      "Steady-state y* = 1.429\n"
     ]
    }
   ],
   "source": [
    "# First example\n",
    "a = 0.3\n",
    "b = 1.0\n",
    "\n",
    "# Steady state\n",
    "ystar = lde_steadystate(a,b)\n",
    "print('Steady-state y* =%6.3f' %(ystar))"
   ]
  },
  {
   "cell_type": "code",
   "execution_count": 77,
   "metadata": {},
   "outputs": [],
   "source": [
    "# Simulate T_sim+1 length path conditional on initial value of y\n",
    "y0 = .5*ystar\n",
    "T_sim = 10\n",
    "path = lde_trajectory(a, b, y0, T=T_sim)"
   ]
  },
  {
   "cell_type": "code",
   "execution_count": 94,
   "metadata": {},
   "outputs": [
    {
     "data": {
      "image/png": "[encoded data removed]",
      "text/plain": [
       "<Figure size 432x288 with 1 Axes>"
      ]
     },
     "metadata": {
      "needs_background": "light"
     },
     "output_type": "display_data"
    }
   ],
   "source": [
    "# Sample domain and range for LDE graph\n",
    "X = np.linspace(min(path)*0.99, 1.10*max(path), 20)\n",
    "Y = lde(X, a, b)\n",
    "\n",
    "plt.figure()\n",
    "# Plot LDE graph\n",
    "plt.plot(X,Y, '-b', label=\"Model\")\n",
    "plt.plot(X,X, '-r', label='$45^{\\circ}$ line')\n",
    "# Plot trajectory in same diagram\n",
    "plt.plot(ystar,ystar, 'og', label=\"Steady state\")\n",
    "for t in range(T_sim-1):\n",
    "    x, y = path[t], path[t+1]\n",
    "    plt.plot(x,y,'s')\n",
    "    plt.text(x,y,\"%i\" % (t))\n",
    "plt.legend()\n",
    "plt.show()"
   ]
  },
  {
   "cell_type": "code",
   "execution_count": 96,
   "metadata": {
    "scrolled": true
   },
   "outputs": [
    {
     "data": {
      "image/png": "[encoded data removed]",
      "text/plain": [
       "<Figure size 432x288 with 1 Axes>"
      ]
     },
     "metadata": {
      "needs_background": "light"
     },
     "output_type": "display_data"
    }
   ],
   "source": [
    "# Visualize results\n",
    "plt.figure()\n",
    "# Steady-state path\n",
    "plt.plot(np.tile(ystar,len(path)), '-r')\n",
    "# Plot path of LDE outcome from y0\n",
    "for t in range(T_sim-1):\n",
    "    plt.plot(t, path[t], 's')\n",
    "plt.xlabel('Time, $t$')\n",
    "plt.ylabel('$y_{t}$')\n",
    "plt.show()"
   ]
  },
  {
   "cell_type": "markdown",
   "metadata": {},
   "source": [
    "Now do the rest. Discuss you results."
   ]
  },
  {
   "cell_type": "markdown",
   "metadata": {},
   "source": [
    "## Homework 8\n",
    "\n",
    "Read the two-variable linear difference equation system we studied in the lecture. (See also your reading in Azariadis posted on Wattle.)\n",
    "\n",
    "Try deriving each step of the method on solving this system.\n",
    "\n",
    "Assume that the $A$ matrix in that question is of full rank."
   ]
  },
  {
   "cell_type": "code",
   "execution_count": null,
   "metadata": {},
   "outputs": [],
   "source": []
  }
 ],
 "metadata": {
  "kernelspec": {
   "display_name": "Python 3",
   "language": "python",
   "name": "python3"
  },
  "language_info": {
   "codemirror_mode": {
    "name": "ipython",
    "version": 3
   },
   "file_extension": ".py",
   "mimetype": "text/x-python",
   "name": "python",
   "nbconvert_exporter": "python",
   "pygments_lexer": "ipython3",
   "version": "3.6.12"
  },
  "latex_envs": {
   "LaTeX_envs_menu_present": true,
   "autoclose": false,
   "autocomplete": true,
   "bibliofile": "biblio.bib",
   "cite_by": "apalike",
   "current_citInitial": 1,
   "eqLabelWithNumbers": true,
   "eqNumInitial": 1,
   "hotkeys": {
    "equation": "Ctrl-E",
    "itemize": "Ctrl-I"
   },
   "labels_anchors": false,
   "latex_user_defs": false,
   "report_style_numbering": false,
   "user_envs_cfg": false
  },
  "toc": {
   "base_numbering": 1,
   "nav_menu": {},
   "number_sections": true,
   "sideBar": true,
   "skip_h1_title": false,
   "title_cell": "Table of Contents",
   "title_sidebar": "Contents",
   "toc_cell": true,
   "toc_position": {},
   "toc_section_display": true,
   "toc_window_display": true
  }
 },
 "nbformat": 4,
 "nbformat_minor": 2
}
